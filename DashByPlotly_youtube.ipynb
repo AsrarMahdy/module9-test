{
 "cells": [
  {
   "cell_type": "markdown",
   "id": "8e3298cc-2bb2-42a4-bd62-9ad1d0e9b534",
   "metadata": {},
   "source": [
    "# Plotly Dash Tutorial Part_1"
   ]
  },
  {
   "cell_type": "markdown",
   "id": "82dc9807-18fe-4de8-b437-9586772aeab9",
   "metadata": {},
   "source": [
    "## Installing Packages and Libraries"
   ]
  },
  {
   "cell_type": "code",
   "execution_count": 3,
   "id": "93a009f4-7559-4e04-8d91-682ff0c464f2",
   "metadata": {
    "scrolled": true
   },
   "outputs": [
    {
     "name": "stdout",
     "output_type": "stream",
     "text": [
      "Requirement already satisfied: dash in c:\\users\\asrar\\appdata\\local\\programs\\python\\python312\\lib\\site-packages (2.14.1)\n",
      "Requirement already satisfied: Flask<3.1,>=1.0.4 in c:\\users\\asrar\\appdata\\local\\programs\\python\\python312\\lib\\site-packages (from dash) (3.0.0)\n",
      "Requirement already satisfied: Werkzeug<3.1 in c:\\users\\asrar\\appdata\\local\\programs\\python\\python312\\lib\\site-packages (from dash) (3.0.1)\n",
      "Requirement already satisfied: plotly>=5.0.0 in c:\\users\\asrar\\appdata\\local\\programs\\python\\python312\\lib\\site-packages (from dash) (5.18.0)\n",
      "Requirement already satisfied: dash-html-components==2.0.0 in c:\\users\\asrar\\appdata\\local\\programs\\python\\python312\\lib\\site-packages (from dash) (2.0.0)\n",
      "Requirement already satisfied: dash-core-components==2.0.0 in c:\\users\\asrar\\appdata\\local\\programs\\python\\python312\\lib\\site-packages (from dash) (2.0.0)\n",
      "Requirement already satisfied: dash-table==5.0.0 in c:\\users\\asrar\\appdata\\local\\programs\\python\\python312\\lib\\site-packages (from dash) (5.0.0)\n",
      "Requirement already satisfied: typing-extensions>=4.1.1 in c:\\users\\asrar\\appdata\\local\\programs\\python\\python312\\lib\\site-packages (from dash) (4.8.0)\n",
      "Requirement already satisfied: requests in c:\\users\\asrar\\appdata\\local\\programs\\python\\python312\\lib\\site-packages (from dash) (2.31.0)\n",
      "Requirement already satisfied: retrying in c:\\users\\asrar\\appdata\\local\\programs\\python\\python312\\lib\\site-packages (from dash) (1.3.4)\n",
      "Requirement already satisfied: ansi2html in c:\\users\\asrar\\appdata\\local\\programs\\python\\python312\\lib\\site-packages (from dash) (1.8.0)\n",
      "Requirement already satisfied: nest-asyncio in c:\\users\\asrar\\appdata\\local\\programs\\python\\python312\\lib\\site-packages (from dash) (1.5.8)\n",
      "Requirement already satisfied: setuptools in c:\\users\\asrar\\appdata\\local\\programs\\python\\python312\\lib\\site-packages (from dash) (68.2.2)\n",
      "Requirement already satisfied: importlib-metadata in c:\\users\\asrar\\appdata\\local\\programs\\python\\python312\\lib\\site-packages (from dash) (6.8.0)\n",
      "Requirement already satisfied: Jinja2>=3.1.2 in c:\\users\\asrar\\appdata\\local\\programs\\python\\python312\\lib\\site-packages (from Flask<3.1,>=1.0.4->dash) (3.1.2)\n",
      "Requirement already satisfied: itsdangerous>=2.1.2 in c:\\users\\asrar\\appdata\\local\\programs\\python\\python312\\lib\\site-packages (from Flask<3.1,>=1.0.4->dash) (2.1.2)\n",
      "Requirement already satisfied: click>=8.1.3 in c:\\users\\asrar\\appdata\\local\\programs\\python\\python312\\lib\\site-packages (from Flask<3.1,>=1.0.4->dash) (8.1.7)\n",
      "Requirement already satisfied: blinker>=1.6.2 in c:\\users\\asrar\\appdata\\local\\programs\\python\\python312\\lib\\site-packages (from Flask<3.1,>=1.0.4->dash) (1.7.0)\n",
      "Requirement already satisfied: tenacity>=6.2.0 in c:\\users\\asrar\\appdata\\local\\programs\\python\\python312\\lib\\site-packages (from plotly>=5.0.0->dash) (8.2.3)\n",
      "Requirement already satisfied: packaging in c:\\users\\asrar\\appdata\\local\\programs\\python\\python312\\lib\\site-packages (from plotly>=5.0.0->dash) (23.2)\n",
      "Requirement already satisfied: MarkupSafe>=2.1.1 in c:\\users\\asrar\\appdata\\local\\programs\\python\\python312\\lib\\site-packages (from Werkzeug<3.1->dash) (2.1.3)\n",
      "Requirement already satisfied: zipp>=0.5 in c:\\users\\asrar\\appdata\\local\\programs\\python\\python312\\lib\\site-packages (from importlib-metadata->dash) (3.17.0)\n",
      "Requirement already satisfied: charset-normalizer<4,>=2 in c:\\users\\asrar\\appdata\\local\\programs\\python\\python312\\lib\\site-packages (from requests->dash) (3.3.2)\n",
      "Requirement already satisfied: idna<4,>=2.5 in c:\\users\\asrar\\appdata\\local\\programs\\python\\python312\\lib\\site-packages (from requests->dash) (3.4)\n",
      "Requirement already satisfied: urllib3<3,>=1.21.1 in c:\\users\\asrar\\appdata\\local\\programs\\python\\python312\\lib\\site-packages (from requests->dash) (2.0.7)\n",
      "Requirement already satisfied: certifi>=2017.4.17 in c:\\users\\asrar\\appdata\\local\\programs\\python\\python312\\lib\\site-packages (from requests->dash) (2023.7.22)\n",
      "Requirement already satisfied: six>=1.7.0 in c:\\users\\asrar\\appdata\\local\\programs\\python\\python312\\lib\\site-packages (from retrying->dash) (1.16.0)\n",
      "Requirement already satisfied: colorama in c:\\users\\asrar\\appdata\\local\\programs\\python\\python312\\lib\\site-packages (from click>=8.1.3->Flask<3.1,>=1.0.4->dash) (0.4.6)\n",
      "Requirement already satisfied: dash-renderer in c:\\users\\asrar\\appdata\\local\\programs\\python\\python312\\lib\\site-packages (1.9.1)\n",
      "Requirement already satisfied: dash_html_components in c:\\users\\asrar\\appdata\\local\\programs\\python\\python312\\lib\\site-packages (2.0.0)\n",
      "Requirement already satisfied: dash_core_components in c:\\users\\asrar\\appdata\\local\\programs\\python\\python312\\lib\\site-packages (2.0.0)\n"
     ]
    }
   ],
   "source": [
    "!pip install dash\n",
    "!pip install dash-renderer\n",
    "!pip install dash_html_components\n",
    "!pip install dash_core_components"
   ]
  },
  {
   "cell_type": "markdown",
   "id": "1ca6f455-8884-4c20-9a18-27a37e776df5",
   "metadata": {},
   "source": [
    "## importing the libraries"
   ]
  },
  {
   "cell_type": "code",
   "execution_count": 4,
   "id": "9e8cdd13-ffb3-489b-bb7f-2c2b703a33d7",
   "metadata": {},
   "outputs": [],
   "source": [
    "import dash\n",
    "import dash_core_components as dcc\n",
    "import dash_html_components as html"
   ]
  },
  {
   "cell_type": "code",
   "execution_count": 5,
   "id": "5cc2e8ce-0de5-4ba2-8285-188eae267639",
   "metadata": {},
   "outputs": [],
   "source": [
    "app=dash.Dash()"
   ]
  },
  {
   "cell_type": "markdown",
   "id": "920968d7-53d6-436a-9c92-8376e89845cd",
   "metadata": {},
   "source": [
    "### setting the layout:1 heading 2: sections 3: Style 4: GUI for users to enter the values"
   ]
  },
  {
   "cell_type": "code",
   "execution_count": 8,
   "id": "4f2373d1-f5d1-4422-815a-4aa2cb06c2a5",
   "metadata": {},
   "outputs": [],
   "source": [
    "app.layout = html.Div([\n",
    "    html.H1('Hello Dash I want to be get friend with you!'),\n",
    "    html.Div('Dash- A Data product development framework from plotly')\n",
    "])"
   ]
  },
  {
   "cell_type": "code",
   "execution_count": 11,
   "id": "e8a41371-6138-447f-84d4-c518e1754abc",
   "metadata": {},
   "outputs": [
    {
     "data": {
      "text/html": [
       "\n",
       "        <iframe\n",
       "            width=\"100%\"\n",
       "            height=\"650\"\n",
       "            src=\"http://127.0.0.1:8051/\"\n",
       "            frameborder=\"0\"\n",
       "            allowfullscreen\n",
       "            \n",
       "        ></iframe>\n",
       "        "
      ],
      "text/plain": [
       "<IPython.lib.display.IFrame at 0x22bac836990>"
      ]
     },
     "metadata": {},
     "output_type": "display_data"
    }
   ],
   "source": [
    "if __name__=='__main__':\n",
    "    app.run_server(port=805)"
   ]
  },
  {
   "cell_type": "markdown",
   "id": "766dc8f9-4645-4f5e-81a0-3c0eb74ec7e6",
   "metadata": {},
   "source": [
    "## it is basically called calling which is a function of flask"
   ]
  },
  {
   "cell_type": "markdown",
   "id": "c1d109b5-2143-4e7e-a253-6f6a6d78138f",
   "metadata": {},
   "source": [
    "### it will creat web dash on the   http://127.0.0.1:8050/"
   ]
  },
  {
   "cell_type": "code",
   "execution_count": 13,
   "id": "6e102d76-50cd-419d-a8dc-dfff92d17de5",
   "metadata": {},
   "outputs": [
    {
     "name": "stdout",
     "output_type": "stream",
     "text": [
      "Help on class Dropdown in module dash.dcc.Dropdown:\n",
      "\n",
      "class Dropdown(dash.development.base_component.Component)\n",
      " |  Dropdown(options=undefined, value=undefined, multi=undefined, clearable=undefined, searchable=undefined, search_value=undefined, placeholder=undefined, disabled=undefined, optionHeight=undefined, maxHeight=undefined, style=undefined, className=undefined, id=undefined, loading_state=undefined, persistence=undefined, persisted_props=undefined, persistence_type=undefined, **kwargs)\n",
      " |\n",
      " |  A Dropdown component.\n",
      " |  Dropdown is an interactive dropdown element for selecting one or more\n",
      " |  items.\n",
      " |  The values and labels of the dropdown items are specified in the `options`\n",
      " |  property and the selected item(s) are specified with the `value` property.\n",
      " |\n",
      " |  Use a dropdown when you have many options (more than 5) or when you are\n",
      " |  constrained for space. Otherwise, you can use RadioItems or a Checklist,\n",
      " |  which have the benefit of showing the users all of the items at once.\n",
      " |\n",
      " |  Keyword arguments:\n",
      " |\n",
      " |  - options (list of dicts; optional):\n",
      " |      An array of options {label: [string|number], value:\n",
      " |      [string|number]}, an optional disabled field can be used for each\n",
      " |      option.\n",
      " |\n",
      " |      `options` is a list of string | number | booleans | dict | list of\n",
      " |      dicts with keys:\n",
      " |\n",
      " |      - disabled (boolean; optional):\n",
      " |          If True, this option is disabled and cannot be selected.\n",
      " |\n",
      " |      - label (a list of or a singular dash component, string or number; required):\n",
      " |          The option's label.\n",
      " |\n",
      " |      - search (string; optional):\n",
      " |          Optional search value for the option, to use if the label is a\n",
      " |          component or provide a custom search value different from the\n",
      " |          label. If no search value and the label is a component, the\n",
      " |          `value` will be used for search.\n",
      " |\n",
      " |      - title (string; optional):\n",
      " |          The HTML 'title' attribute for the option. Allows for\n",
      " |          information on hover. For more information on this attribute,\n",
      " |          see\n",
      " |          https://developer.mozilla.org/en-US/docs/Web/HTML/Global_attributes/title.\n",
      " |\n",
      " |      - value (string | number | boolean; required):\n",
      " |          The value of the option. This value corresponds to the items\n",
      " |          specified in the `value` property.\n",
      " |\n",
      " |  - value (string | number | boolean | list of string | number | booleans; optional):\n",
      " |      The value of the input. If `multi` is False (the default) then\n",
      " |      value is just a string that corresponds to the values provided in\n",
      " |      the `options` property. If `multi` is True, then multiple values\n",
      " |      can be selected at once, and `value` is an array of items with\n",
      " |      values corresponding to those in the `options` prop.\n",
      " |\n",
      " |  - multi (boolean; default False):\n",
      " |      If True, the user can select multiple values.\n",
      " |\n",
      " |  - clearable (boolean; default True):\n",
      " |      Whether or not the dropdown is \"clearable\", that is, whether or\n",
      " |      not a small \"x\" appears on the right of the dropdown that\n",
      " |      removes the selected value.\n",
      " |\n",
      " |  - searchable (boolean; default True):\n",
      " |      Whether to enable the searching feature or not.\n",
      " |\n",
      " |  - search_value (string; optional):\n",
      " |      The value typed in the DropDown for searching.\n",
      " |\n",
      " |  - placeholder (string; optional):\n",
      " |      The grey, default text shown when no option is selected.\n",
      " |\n",
      " |  - disabled (boolean; default False):\n",
      " |      If True, this dropdown is disabled and the selection cannot be\n",
      " |      changed.\n",
      " |\n",
      " |  - optionHeight (number; default 35):\n",
      " |      height of each option. Can be increased when label lengths would\n",
      " |      wrap around.\n",
      " |\n",
      " |  - maxHeight (number; default 200):\n",
      " |      height of the options dropdown.\n",
      " |\n",
      " |  - style (dict; optional):\n",
      " |      Defines CSS styles which will override styles previously set.\n",
      " |\n",
      " |  - className (string; optional):\n",
      " |      className of the dropdown element.\n",
      " |\n",
      " |  - id (string; optional):\n",
      " |      The ID of this component, used to identify dash components in\n",
      " |      callbacks. The ID needs to be unique across all of the components\n",
      " |      in an app.\n",
      " |\n",
      " |  - loading_state (dict; optional):\n",
      " |      Object that holds the loading state object coming from\n",
      " |      dash-renderer.\n",
      " |\n",
      " |      `loading_state` is a dict with keys:\n",
      " |\n",
      " |      - component_name (string; optional):\n",
      " |          Holds the name of the component that is loading.\n",
      " |\n",
      " |      - is_loading (boolean; optional):\n",
      " |          Determines if the component is loading or not.\n",
      " |\n",
      " |      - prop_name (string; optional):\n",
      " |          Holds which property is loading.\n",
      " |\n",
      " |  - persistence (boolean | string | number; optional):\n",
      " |      Used to allow user interactions in this component to be persisted\n",
      " |      when the component - or the page - is refreshed. If `persisted` is\n",
      " |      truthy and hasn't changed from its previous value, a `value` that\n",
      " |      the user has changed while using the app will keep that change, as\n",
      " |      long as the new `value` also matches what was given originally.\n",
      " |      Used in conjunction with `persistence_type`.\n",
      " |\n",
      " |  - persisted_props (list of a value equal to: 'value's; default ['value']):\n",
      " |      Properties whose user interactions will persist after refreshing\n",
      " |      the component or the page. Since only `value` is allowed this prop\n",
      " |      can normally be ignored.\n",
      " |\n",
      " |  - persistence_type (a value equal to: 'local', 'session', 'memory'; default 'local'):\n",
      " |      Where persisted user changes will be stored: memory: only kept in\n",
      " |      memory, reset on page refresh. local: window.localStorage, data is\n",
      " |      kept after the browser quit. session: window.sessionStorage, data\n",
      " |      is cleared once the browser quit.\n",
      " |\n",
      " |  Method resolution order:\n",
      " |      Dropdown\n",
      " |      dash.development.base_component.Component\n",
      " |      builtins.object\n",
      " |\n",
      " |  Methods defined here:\n",
      " |\n",
      " |  __init__ = wrapper(self, options=undefined, value=undefined, multi=undefined, clearable=undefined, searchable=undefined, search_value=undefined, placeholder=undefined, disabled=undefined, optionHeight=undefined, maxHeight=undefined, style=undefined, className=undefined, id=undefined, loading_state=undefined, persistence=undefined, persisted_props=undefined, persistence_type=undefined, **kwargs)\n",
      " |\n",
      " |  ----------------------------------------------------------------------\n",
      " |  Data and other attributes defined here:\n",
      " |\n",
      " |  __abstractmethods__ = frozenset()\n",
      " |\n",
      " |  ----------------------------------------------------------------------\n",
      " |  Methods inherited from dash.development.base_component.Component:\n",
      " |\n",
      " |  __delitem__(self, id)\n",
      " |      Delete items by ID in the tree of children.\n",
      " |\n",
      " |  __getitem__(self, id)\n",
      " |      Recursively find the element with the given ID through the tree of\n",
      " |      children.\n",
      " |\n",
      " |  __iter__(self)\n",
      " |      Yield IDs in the tree of children.\n",
      " |\n",
      " |  __len__(self)\n",
      " |      Return the number of items in the tree.\n",
      " |\n",
      " |  __repr__(self)\n",
      " |      Return repr(self).\n",
      " |\n",
      " |  __setitem__(self, id, item)\n",
      " |      Set an element by its ID.\n",
      " |\n",
      " |  to_plotly_json(self)\n",
      " |\n",
      " |  ----------------------------------------------------------------------\n",
      " |  Data descriptors inherited from dash.development.base_component.Component:\n",
      " |\n",
      " |  __dict__\n",
      " |      dictionary for instance variables (if defined)\n",
      " |\n",
      " |  __weakref__\n",
      " |      list of weak references to the object (if defined)\n",
      " |\n",
      " |  ----------------------------------------------------------------------\n",
      " |  Data and other attributes inherited from dash.development.base_component.Component:\n",
      " |\n",
      " |  REQUIRED = required\n",
      " |\n",
      " |  UNDEFINED = undefined\n",
      "\n"
     ]
    }
   ],
   "source": [
    "help(dcc.Dropdown)"
   ]
  },
  {
   "cell_type": "code",
   "execution_count": null,
   "id": "cc61686b-b211-4f7d-9a84-dd6287ef0b59",
   "metadata": {},
   "outputs": [],
   "source": []
  }
 ],
 "metadata": {
  "kernelspec": {
   "display_name": "Python 3 (ipykernel)",
   "language": "python",
   "name": "python3"
  },
  "language_info": {
   "codemirror_mode": {
    "name": "ipython",
    "version": 3
   },
   "file_extension": ".py",
   "mimetype": "text/x-python",
   "name": "python",
   "nbconvert_exporter": "python",
   "pygments_lexer": "ipython3",
   "version": "3.12.0"
  }
 },
 "nbformat": 4,
 "nbformat_minor": 5
}
